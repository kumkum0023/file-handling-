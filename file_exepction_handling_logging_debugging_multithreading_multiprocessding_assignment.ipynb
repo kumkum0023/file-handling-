{
 "cells": [
  {
   "cell_type": "markdown",
   "id": "fe3128df",
   "metadata": {},
   "source": [
    "1. What is the difference between interpreted and compiled languages ?\n",
    "  -  In compiled languages, the source code is translated into machine code (binary) by a compiler before it is run.\n",
    "  - In interpreted languages, the source code is not pre-compiled. Instead, an interpreter reads and executes the code line by line at runtime.\n",
    "2. What is exception handling in Python ?\n",
    " - Exception handling in Python is a way to manage errors that occur during the execution of a program. Instead of stopping the program when an error occurs, Python lets you \"catch\" and \"handle\" those errors gracefully.\n",
    "3. What is the purpose of the finally block in exception handling ?\n",
    " - The finally block in Python is used to define code that must be executed, no matter what — whether an exception occurred or not.\n",
    "4. What is logging in Python ?\n",
    " - Logging in Python is the process of recording events, errors, warnings, or information that happens while a program runs. It helps debug, monitor, and track the behavior of an application.\n",
    "5. What is the significance of the __del__ method in Python ?\n",
    " - The __del__ method in Python is a special (magic) method called a destructor. It is automatically called when an object is about to be destroyed (i.e., when it is garbage collected).\n",
    "6. What is the difference between import and from ... import in Python ?\n",
    " - Both are used to include external modules in your Python program, but they work a bit differently.\n",
    "7.  How can you handle multiple exceptions in Python ?\n",
    " - Python allows you to handle multiple exceptions in a clean and organized way using multiple except blocks or a single block with multiple exceptions.\n",
    "8. What is the purpose of the with statement when handling files in Python ?\n",
    "  - The with statement in Python is used to simplify file handling by automatically managing resources like file streams.\n",
    "9. What is the difference between multithreading and multiprocessing ?\n",
    " - Both multithreading and multiprocessing are used to perform concurrent (parallel) tasks, but they differ in how they do it and what problems they are best suited for.\n",
    "10. What are the advantages of using logging in a program ?\n",
    "  - Using logging instead of print() statements provides several important benefits, especially in large or production-level applications.\n",
    "11. What is memory management in Python ?\n",
    "  - Memory management in Python refers to the process of allocating, using, and releasing memory efficiently during program execution. It ensures that your program doesn't waste memory or crash due to memory issues.\n",
    "12. What are the basic steps involved in exception handling in Python ?\n",
    "  - Exception handling in Python is the process of managing errors gracefully during program execution. It prevents programs from crashing unexpectedly and allows developers to define how to respond to runtime errors.\n",
    "13. Why is memory management important in Python ?\n",
    " - Memory management is crucial in Python because it directly affects a program’s performance, stability, and scalability.\n",
    "14. What is the role of try and except in exception handling ?\n",
    "  - In Python, try and except blocks are used to catch and handle exceptions (errors) that may occur during program execution. They form the core structure of exception handling.\n",
    "15. How does Python's garbage collection system work ?\n",
    " - Python's garbage collection (GC) system is responsible for automatically reclaiming memory used by objects that are no longer needed. This prevents memory leaks and keeps programs efficient.\n",
    " 16. What is the purpose of the else block in exception handling ?\n",
    "   - The else block in Python exception handling is used to define code that should run only if no exception was raised in the try block.\n",
    "17. What are the common logging levels in Python ?\n",
    "  - Python provides a built-in logging module that helps you track events that happen during program execution. Logging levels define the severity or importance of the events.\n",
    "18. What is the difference between os.fork() and multiprocessing in Python ?\n",
    "  - Both os.fork() and the multiprocessing module are used to create new processes, but they differ in how they work, platform support, and ease of use.\n",
    "19. What is the importance of closing a file in Python ?\n",
    " - Closing a file in Python is very important for maintaining data integrity, managing system resources, and ensuring proper program behavior.\n",
    "20. What is the difference between file.read() and file.readline() in Python ?\n",
    "  - Both file.read() and file.readline() are used to read data from a file, but they behave differently in terms of how much data they read.\n",
    "21. What is the logging module in Python used for ?\n",
    " - The logging module in Python is used to track events that happen during the execution of a program. It provides a flexible framework for emitting log messages from Python programs.\n",
    "22. What is the os module in Python used for in file handling ?\n",
    "  - The os module in Python provides functions to interact with the operating system, especially for file and directory handling.\n",
    "\n",
    "23. What are the challenges associated with memory management in Python ?\n",
    " - While Python provides automatic memory management through its garbage collector, there are still several challenges developers may encounter:\n",
    "     - Memory Leaks\n",
    "     - Circular References\n",
    "     - Garbage Collection Overhead\n",
    "     - Fragmentation\n",
    "     - High Memory Usage with Large Data\n",
    "     - Lack of Explicit Control\n",
    "24. How do you raise an exception manually in Python ?\n",
    "  - In Python, you can raise an exception manually using the raise statement. This is useful when you want to trigger an error intentionally based on certain conditions in your program.\n",
    "25. Why is it important to use multithreading in certain applications ?\n",
    "  - Multithreading allows a program to execute multiple threads (smaller units of a process) concurrently. This is important in applications where responsiveness, efficiency, and parallel task execution are required.\n",
    "\n",
    "\n",
    "\n"
   ]
  },
  {
   "cell_type": "markdown",
   "id": "c69c48c3",
   "metadata": {},
   "source": [
    "            Practical questions"
   ]
  },
  {
   "cell_type": "markdown",
   "id": "ac1e0538",
   "metadata": {},
   "source": [
    "1. How can you open a file for writing in Python and write a string to it"
   ]
  },
  {
   "cell_type": "code",
   "execution_count": 1,
   "id": "104bedce",
   "metadata": {},
   "outputs": [],
   "source": [
    "with open(\"example.txt\",'w')as file:\n",
    "    file.write(\"hello,this is bhumika \")"
   ]
  },
  {
   "cell_type": "markdown",
   "id": "324a2c7a",
   "metadata": {},
   "source": [
    "2. Write a Python program to read the contents of a file and print each line.\n"
   ]
  },
  {
   "cell_type": "code",
   "execution_count": 3,
   "id": "af096f38",
   "metadata": {},
   "outputs": [
    {
     "name": "stdout",
     "output_type": "stream",
     "text": [
      "hello,this is bhumika\n"
     ]
    }
   ],
   "source": [
    "with open(\"example.txt\",'r') as file:\n",
    "    for line in file:\n",
    "        print(line.strip())"
   ]
  },
  {
   "cell_type": "markdown",
   "id": "090f8c35",
   "metadata": {},
   "source": [
    "3. How would you handle a case where the file doesn't exist while trying to open it for reading"
   ]
  },
  {
   "cell_type": "code",
   "execution_count": 5,
   "id": "e2acac74",
   "metadata": {},
   "outputs": [
    {
     "name": "stdout",
     "output_type": "stream",
     "text": [
      "file is not there [Errno 2] No such file or directory: 'example1.txt'\n"
     ]
    }
   ],
   "source": [
    "filename=\"example1.txt\"\n",
    "\n",
    "try:\n",
    "    with open(filename,'r') as file:\n",
    "        for line in file:\n",
    "            print(line.strip())\n",
    "except Exception as e:\n",
    "    print(\"file is not there\",e)            "
   ]
  },
  {
   "cell_type": "markdown",
   "id": "6820412e",
   "metadata": {},
   "source": [
    "4. Write a Python script that reads from one file and writes its content to another file."
   ]
  },
  {
   "cell_type": "code",
   "execution_count": 6,
   "id": "bdb9dace",
   "metadata": {},
   "outputs": [
    {
     "name": "stdout",
     "output_type": "stream",
     "text": [
      "errors: the file 'source.txt' does not exist\n"
     ]
    }
   ],
   "source": [
    "source_file=\"source.txt\"\n",
    "destination_file=\"destination.txt\"\n",
    "try:\n",
    "    with open(source_file,'r') as source:\n",
    "        content=source.read()\n",
    "    with open(destination_file,'w')  as dest:\n",
    "        for line in source:\n",
    "            dest.write(line)\n",
    "    print(f\"contents copied from'{source_file}' 'to''{destination_file} \")         \n",
    "except FileNotFoundError:\n",
    "    print(f\"errors: the file '{source_file}' does not exist\") \n",
    "except IOError as e:\n",
    "    print(f\"I/O error ocurred :{e}\")                "
   ]
  },
  {
   "cell_type": "markdown",
   "id": "29bf153f",
   "metadata": {},
   "source": [
    "5.  How would you catch and handle division by zero error in Python"
   ]
  },
  {
   "cell_type": "code",
   "execution_count": 8,
   "id": "6dff5147",
   "metadata": {},
   "outputs": [
    {
     "name": "stdout",
     "output_type": "stream",
     "text": [
      "error :Zerodivision is not possible division by zero\n"
     ]
    }
   ],
   "source": [
    "try:\n",
    "    num=10/0\n",
    "    print(num)\n",
    "except ZeroDivisionError as e:\n",
    "    print(\"error :Zerodivision is not possible\",e)    "
   ]
  },
  {
   "cell_type": "markdown",
   "id": "4d905eb4",
   "metadata": {},
   "source": [
    "6. Write a Python program that logs an error message to a log file when a division by zero exception occurs."
   ]
  },
  {
   "cell_type": "code",
   "execution_count": 21,
   "id": "fd57861f",
   "metadata": {},
   "outputs": [
    {
     "name": "stdout",
     "output_type": "stream",
     "text": [
      "an error occured check the log file for details\n"
     ]
    }
   ],
   "source": [
    "import logging\n",
    "logging.basicConfig(filename='error_log.txt',level=logging.ERROR,format='%(asctime)s%(levelname)s%(message)s ')\n",
    "\n",
    "try:\n",
    "    num=10/0\n",
    "    print(num)\n",
    "except ZeroDivisionError as e:\n",
    "    print(\"an error occured check the log file for details\")"
   ]
  },
  {
   "cell_type": "markdown",
   "id": "6304c9a0",
   "metadata": {},
   "source": [
    "7. How do you log information at different levels (INFO, ERROR, WARNING) in Python using the logging module"
   ]
  },
  {
   "cell_type": "code",
   "execution_count": null,
   "id": "33ddbffe",
   "metadata": {},
   "outputs": [],
   "source": [
    "import logging\n",
    "\n",
    "logging.basicConfig(filename='app.log',level=logging.DEBUG,format='%(asctime)s  %(levelname)s %(message)s')\n",
    "\n",
    "logging.debug(\"This is a DEBUG message.\")\n",
    "logging.info(\"This is an INFO message.\")\n",
    "logging.warning(\"This is a WARNING message.\")\n",
    "logging.error(\"This is an ERROR message.\")\n",
    "logging.critical(\"This is a CRITICAL message.\")\n",
    "\n",
    "logging.shutdown()"
   ]
  },
  {
   "cell_type": "markdown",
   "id": "1bf13266",
   "metadata": {},
   "source": [
    "8. Write a program to handle a file opening error using exception handling"
   ]
  },
  {
   "cell_type": "code",
   "execution_count": 22,
   "id": "15ba025c",
   "metadata": {},
   "outputs": [
    {
     "name": "stdout",
     "output_type": "stream",
     "text": [
      "Error: The file 'nonexistent_file.txt' was not found.\n"
     ]
    }
   ],
   "source": [
    "filename = \"nonexistent_file.txt\"  \n",
    "\n",
    "try:\n",
    "    with open(filename, \"r\") as file:\n",
    "        content = file.read()\n",
    "        print(\"File content:\\n\", content)\n",
    "\n",
    "except FileNotFoundError:\n",
    "    print(f\"Error: The file '{filename}' was not found.\")\n",
    "\n",
    "except IOError as e:\n",
    "    print(f\"An I/O error occurred: {e}\")\n"
   ]
  },
  {
   "cell_type": "markdown",
   "id": "39e22cb9",
   "metadata": {},
   "source": [
    "9.  How can you read a file line by line and store its content in a list in Python"
   ]
  },
  {
   "cell_type": "code",
   "execution_count": 24,
   "id": "ad712d7e",
   "metadata": {},
   "outputs": [
    {
     "name": "stdout",
     "output_type": "stream",
     "text": [
      "['hello,this is bhumika ']\n"
     ]
    }
   ],
   "source": [
    "with open('example.txt','r') as file:\n",
    "    line=file.readlines()\n",
    "print(line)    "
   ]
  },
  {
   "cell_type": "markdown",
   "id": "deb22c54",
   "metadata": {},
   "source": [
    "10. How can you append data to an existing file in Python ?"
   ]
  },
  {
   "cell_type": "code",
   "execution_count": 26,
   "id": "9a66cb30",
   "metadata": {},
   "outputs": [],
   "source": [
    "with open(\"example.txt\", \"a\") as file:\n",
    "    file.write(\"This line will be added to the file.\\n\")\n",
    "file.close()"
   ]
  },
  {
   "cell_type": "markdown",
   "id": "5c086fe9",
   "metadata": {},
   "source": [
    "11.  Write a Python program that uses a try-except block to handle an error when attempting to access a\n",
    "dictionary key that doesn't exist"
   ]
  },
  {
   "cell_type": "code",
   "execution_count": 27,
   "id": "23b93d54",
   "metadata": {},
   "outputs": [
    {
     "name": "stdout",
     "output_type": "stream",
     "text": [
      "Error: The key 'city' does not exist in the dictionary.\n"
     ]
    }
   ],
   "source": [
    "person = {\n",
    "    \"name\": \"bhumi\",\n",
    "    \"age\": 19\n",
    "}\n",
    "\n",
    "try:\n",
    "    print(\"City:\", person[\"city\"])\n",
    "except KeyError:\n",
    "    print(\"Error: The key 'city' does not exist in the dictionary.\")\n"
   ]
  },
  {
   "cell_type": "markdown",
   "id": "21eba706",
   "metadata": {},
   "source": [
    "12. Write a program that demonstrates using multiple except blocks to handle different types of exceptions."
   ]
  },
  {
   "cell_type": "code",
   "execution_count": 29,
   "id": "5b8c5022",
   "metadata": {},
   "outputs": [
    {
     "name": "stdout",
     "output_type": "stream",
     "text": [
      "Error: Cannot divide by zero.\n"
     ]
    }
   ],
   "source": [
    "try:\n",
    "    num = int(input(\"Enter a number: \"))\n",
    "    result = 10 / num\n",
    "    print(\"Result:\", result)\n",
    "\n",
    "    data = {\"name\": \"bhumika\"}\n",
    "    print(\"Age:\", data[\"age\"])\n",
    "\n",
    "except ZeroDivisionError:\n",
    "    print(\"Error: Cannot divide by zero.\")\n",
    "\n",
    "except ValueError:\n",
    "    print(\"Error: Invalid input. Please enter a number.\")\n",
    "\n",
    "except KeyError:\n",
    "    print(\"Error: The specified key does not exist in the dictionary.\")\n"
   ]
  },
  {
   "cell_type": "markdown",
   "id": "478075db",
   "metadata": {},
   "source": [
    "13. How would you check if a file exists before attempting to read it in Python ?"
   ]
  },
  {
   "cell_type": "code",
   "execution_count": 30,
   "id": "1a0a5855",
   "metadata": {},
   "outputs": [
    {
     "name": "stdout",
     "output_type": "stream",
     "text": [
      "hello,this is bhumika This line will be added to the file.\n",
      "This line will be added to the file.\n",
      "\n"
     ]
    }
   ],
   "source": [
    "import os\n",
    "\n",
    "filename = \"example.txt\"\n",
    "\n",
    "if os.path.exists(filename):\n",
    "    with open(filename, \"r\") as file:\n",
    "        content = file.read()\n",
    "        print(content)\n",
    "else:\n",
    "    print(f\"Error: '{filename}' does not exist.\")\n"
   ]
  },
  {
   "cell_type": "markdown",
   "id": "f1ae5a0a",
   "metadata": {},
   "source": [
    "14. Write a program that uses the logging module to log both informational and error messages"
   ]
  },
  {
   "cell_type": "code",
   "execution_count": 32,
   "id": "5c924fbd",
   "metadata": {},
   "outputs": [],
   "source": [
    "import logging\n",
    "\n",
    "logging.basicConfig(\n",
    "    filename='test.log',level=logging.DEBUG,format='%(asctime)s  %(levelname)s  %(message)s'\n",
    ")\n",
    "\n",
    "logging.info(\"Program started successfully.\")\n",
    "\n",
    "try:\n",
    "    num1 = 10\n",
    "    num2 = 0\n",
    "    result = num1 / num2\n",
    "    logging.info(f\"Division result: {result}\")\n",
    "\n",
    "except ZeroDivisionError as e:\n",
    "    logging.error(\"Error occurred: Division by zero.\")\n",
    "\n",
    "logging.info(\"Program finished.\")\n"
   ]
  },
  {
   "cell_type": "markdown",
   "id": "aa68c8e1",
   "metadata": {},
   "source": [
    "15. Write a Python program that prints the content of a file and handles the case when the file is empty"
   ]
  },
  {
   "cell_type": "code",
   "execution_count": 34,
   "id": "bc8006b9",
   "metadata": {},
   "outputs": [
    {
     "name": "stdout",
     "output_type": "stream",
     "text": [
      "file content:\n",
      "\n",
      "hello,this is bhumika This line will be added to the file.\n",
      "This line will be added to the file.\n",
      "\n"
     ]
    }
   ],
   "source": [
    "def print_file_content(filename):\n",
    "    try:\n",
    "        with open(filename,'r')as file:\n",
    "            content=file.read()\n",
    "            if content.strip()==\"\":\n",
    "                print(\"the file is empty\")\n",
    "            else:\n",
    "                print(\"file content:\\n\")  \n",
    "                print(content) \n",
    "    except Exception as e:\n",
    "        print(\"file {filename} does not exist\")    \n",
    "print_file_content(\"example.txt\")                 "
   ]
  },
  {
   "cell_type": "markdown",
   "id": "10048d07",
   "metadata": {},
   "source": [
    "16. Demonstrate how to use memory profiling to check the memory usage of a small program"
   ]
  },
  {
   "cell_type": "code",
   "execution_count": 35,
   "id": "f3cd329e",
   "metadata": {},
   "outputs": [
    {
     "name": "stdout",
     "output_type": "stream",
     "text": [
      "do something\n",
      "sleep for 1 sec\n",
      "done with sleeping\n",
      "the program finished in 1.0second\n"
     ]
    }
   ],
   "source": [
    "import time\n",
    "start=time.perf_counter()\n",
    "def test_fun():\n",
    "    print(\"do something\")\n",
    "    print(\"sleep for 1 sec\")\n",
    "    time.sleep(1)\n",
    "    print(\"done with sleeping\")\n",
    "test_fun()\n",
    "end=time.perf_counter()\n",
    "print(f\"the program finished in {round(end-start,2)}second\")    "
   ]
  },
  {
   "cell_type": "markdown",
   "id": "94605377",
   "metadata": {},
   "source": [
    "17. Write a Python program to create and write a list of numbers to a file, one number per line"
   ]
  },
  {
   "cell_type": "code",
   "execution_count": 36,
   "id": "57d0e05b",
   "metadata": {},
   "outputs": [
    {
     "name": "stdout",
     "output_type": "stream",
     "text": [
      "Successfully written 10 numbers to 'numbers.txt'\n"
     ]
    }
   ],
   "source": [
    "numbers = [1, 2, 3, 4, 5, 6, 7, 8, 9, 10]\n",
    "\n",
    "filename = \"numbers.txt\"\n",
    "with open(filename, \"w\") as file:\n",
    "    for number in numbers:\n",
    "        file.write(str(number) + \"\\n\")\n",
    "print(f\"Successfully written {len(numbers)} numbers to '{filename}'\")\n"
   ]
  },
  {
   "cell_type": "markdown",
   "id": "8a48da54",
   "metadata": {},
   "source": [
    "18.  How would you implement a basic logging setup that logs to a file with rotation after 1MB"
   ]
  },
  {
   "cell_type": "markdown",
   "id": "e4e684ee",
   "metadata": {},
   "source": [
    "19. Write a program that handles both IndexError and KeyError using a try-except block"
   ]
  },
  {
   "cell_type": "code",
   "execution_count": 38,
   "id": "c0bb766e",
   "metadata": {},
   "outputs": [
    {
     "name": "stdout",
     "output_type": "stream",
     "text": [
      "Error: List index out of range.\n"
     ]
    }
   ],
   "source": [
    "try:\n",
    "    my_list = [1, 2, 3]\n",
    "    print(\"Accessing 5th item in list:\", my_list[4])  \n",
    "\n",
    "    my_dict = {\"name\": \"bhumi\"}\n",
    "    print(\"Accessing 'age' key in dict:\", my_dict[\"age\"])  \n",
    "\n",
    "except IndexError:\n",
    "        print(\"Error: List index out of range.\")\n",
    "\n",
    "except KeyError:\n",
    "        print(\"Error: Key not found in dictionary.\")\n",
    "\n"
   ]
  },
  {
   "cell_type": "markdown",
   "id": "58e56b76",
   "metadata": {},
   "source": [
    "20. How would you open a file and read its contents using a context manager in Python"
   ]
  },
  {
   "cell_type": "code",
   "execution_count": 39,
   "id": "2994129d",
   "metadata": {},
   "outputs": [
    {
     "name": "stdout",
     "output_type": "stream",
     "text": [
      "hello,this is bhumika This line will be added to the file.\n",
      "This line will be added to the file.\n",
      "\n"
     ]
    }
   ],
   "source": [
    "filename = \"example.txt\"\n",
    "\n",
    "with open(filename, \"r\") as file:\n",
    "    content = file.read()\n",
    "    print(content)\n"
   ]
  },
  {
   "cell_type": "markdown",
   "id": "d4effdbb",
   "metadata": {},
   "source": [
    "21. Write a Python program that reads a file and prints the number of occurrences of a specific word"
   ]
  },
  {
   "cell_type": "code",
   "execution_count": null,
   "id": "99e4099a",
   "metadata": {},
   "outputs": [
    {
     "name": "stdout",
     "output_type": "stream",
     "text": [
      "The word 'python' occurs 0 time(s) in the file.\n"
     ]
    }
   ],
   "source": [
    "def count_word_occurrences(filename, target_word):\n",
    "    try:\n",
    "        with open(filename, 'r') as file:\n",
    "            content = file.read()\n",
    "            words = content.lower().split()\n",
    "            count = words.count(target_word.lower())\n",
    "            print(f\"The word '{target_word}' occurs {count} time(s) in the file.\")\n",
    "    except FileNotFoundError:\n",
    "        print(f\"Error: The file '{filename}' does not exist.\")\n",
    "    except IOError as e:\n",
    "        print(f\"An I/O error occurred: {e}\")\n",
    "\n",
    "count_word_occurrences(\"example.txt\", \"python\")\n"
   ]
  },
  {
   "cell_type": "markdown",
   "id": "44f90a8c",
   "metadata": {},
   "source": [
    "22. How can you check if a file is empty before attempting to read its contents ?"
   ]
  },
  {
   "cell_type": "code",
   "execution_count": 41,
   "id": "a6e5cc2a",
   "metadata": {},
   "outputs": [
    {
     "name": "stdout",
     "output_type": "stream",
     "text": [
      "File content:\n",
      " hello,this is bhumika This line will be added to the file.\n",
      "This line will be added to the file.\n",
      "\n"
     ]
    }
   ],
   "source": [
    "import os\n",
    "\n",
    "filename = \"example.txt\"\n",
    "\n",
    "if os.path.exists(filename) and os.stat(filename).st_size == 0:\n",
    "    print(\"The file is empty.\")\n",
    "else:\n",
    "    with open(filename, 'r') as file:\n",
    "        content = file.read()\n",
    "        print(\"File content:\\n\", content)\n"
   ]
  },
  {
   "cell_type": "markdown",
   "id": "6bc42eb9",
   "metadata": {},
   "source": [
    "23. Write a Python program that writes to a log file when an error occurs during file handling"
   ]
  },
  {
   "cell_type": "code",
   "execution_count": 42,
   "id": "8d23b5b7",
   "metadata": {},
   "outputs": [
    {
     "name": "stdout",
     "output_type": "stream",
     "text": [
      "Error: File not found.\n"
     ]
    }
   ],
   "source": [
    "import logging\n",
    "\n",
    "logging.basicConfig(\n",
    "    filename='file_errors.log',\n",
    "    level=logging.ERROR,\n",
    "    format='%(asctime)s - %(levelname)s - %(message)s'\n",
    ")\n",
    "\n",
    "def read_file(filename):\n",
    "    try:\n",
    "        with open(filename, 'r') as file:\n",
    "            content = file.read()\n",
    "            print(\"File content:\\n\", content)\n",
    "    except FileNotFoundError as e:\n",
    "        print(\"Error: File not found.\")\n",
    "        logging.error(f\"FileNotFoundError: {e}\")\n",
    "    except IOError as e:\n",
    "        print(\"Error: An I/O error occurred.\")\n",
    "        logging.error(f\"IOError: {e}\")\n",
    "\n",
    "read_file(\"nonexistent_file.txt\")\n"
   ]
  }
 ],
 "metadata": {
  "kernelspec": {
   "display_name": "Python 3",
   "language": "python",
   "name": "python3"
  },
  "language_info": {
   "codemirror_mode": {
    "name": "ipython",
    "version": 3
   },
   "file_extension": ".py",
   "mimetype": "text/x-python",
   "name": "python",
   "nbconvert_exporter": "python",
   "pygments_lexer": "ipython3",
   "version": "3.13.0"
  }
 },
 "nbformat": 4,
 "nbformat_minor": 5
}
